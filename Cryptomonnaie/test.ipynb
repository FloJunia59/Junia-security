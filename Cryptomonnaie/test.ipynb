{
 "cells": [
  {
   "cell_type": "markdown",
   "metadata": {},
   "source": [
    "# Génération de clé privée et publique"
   ]
  },
  {
   "cell_type": "code",
   "execution_count": 4805,
   "metadata": {},
   "outputs": [
    {
     "data": {
      "text/plain": [
       "'3.9.15 (main, Nov  4 2022, 11:11:31) \\n[Clang 12.0.0 ]'"
      ]
     },
     "execution_count": 4805,
     "metadata": {},
     "output_type": "execute_result"
    }
   ],
   "source": [
    "import sys\n",
    "sys.version"
   ]
  },
  {
   "cell_type": "code",
   "execution_count": 4806,
   "metadata": {},
   "outputs": [
    {
     "name": "stdout",
     "output_type": "stream",
     "text": [
      "The autoreload extension is already loaded. To reload it, use:\n",
      "  %reload_ext autoreload\n"
     ]
    }
   ],
   "source": [
    "%load_ext autoreload\n",
    "%autoreload 2"
   ]
  },
  {
   "cell_type": "code",
   "execution_count": 4807,
   "metadata": {},
   "outputs": [
    {
     "name": "stdout",
     "output_type": "stream",
     "text": [
      "Requirement already satisfied: falcon in /Users/swan.jean-de-dieu/opt/anaconda3/lib/python3.9/site-packages (3.1.3)\n",
      "Note: you may need to restart the kernel to use updated packages.\n"
     ]
    }
   ],
   "source": [
    "pip install falcon"
   ]
  },
  {
   "cell_type": "markdown",
   "metadata": {},
   "source": [
    "On génère la clé privé en sélectionnant de façon pseudo-aléatoire un nombre entre 1 et 2^256 (environ 1,175*10^77), notre clé privé est ce nombre aléatoire. \n",
    "\n",
    "La sécurité provient du fait qu'il est quasiment impossible de sélectionner le même chiffre par hasard."
   ]
  },
  {
   "cell_type": "code",
   "execution_count": 4808,
   "metadata": {},
   "outputs": [
    {
     "name": "stdout",
     "output_type": "stream",
     "text": [
      "La clé privée en valeur décimale est 108008149035590916480043517742926194702737936367129282726684337901072797887088\n",
      "Taille de la clé privée en valeur décimale : 78\n"
     ]
    }
   ],
   "source": [
    "from genKeys import privateKey_gen\n",
    "import math\n",
    "privateKey = privateKey_gen()\n",
    "print('La clé privée en valeur décimale est',privateKey)\n",
    "taille_random = int(math.log10(privateKey)) + 1\n",
    "print(\"Taille de la clé privée en valeur décimale :\", taille_random)"
   ]
  },
  {
   "cell_type": "markdown",
   "metadata": {},
   "source": [
    "On va maintenant calculer la taille de la clé en octet car cela sera nécessaire pour le mettre en argument de la courbe elliptique."
   ]
  },
  {
   "cell_type": "code",
   "execution_count": 4809,
   "metadata": {},
   "outputs": [
    {
     "data": {
      "text/plain": [
       "32"
      ]
     },
     "execution_count": 4809,
     "metadata": {},
     "output_type": "execute_result"
    }
   ],
   "source": [
    "from genKeys import sizeof\n",
    "sizeof(privateKey)"
   ]
  },
  {
   "cell_type": "markdown",
   "metadata": {},
   "source": [
    "La fonction compress permet de compresser la clé pour économiser de l'espace de stockage, transmettre plus rapidement, optimiser ou réduire les coûts."
   ]
  },
  {
   "cell_type": "code",
   "execution_count": 4810,
   "metadata": {},
   "outputs": [
    {
     "data": {
      "text/plain": [
       "27650086153111274618891140542189105843900911709985096378031190502674636259094529"
      ]
     },
     "execution_count": 4810,
     "metadata": {},
     "output_type": "execute_result"
    }
   ],
   "source": [
    "from genKeys import compress\n",
    "privateKeyCompressed = compress(privateKey)\n",
    "privateKeyCompressed\n"
   ]
  },
  {
   "cell_type": "code",
   "execution_count": 4811,
   "metadata": {},
   "outputs": [
    {
     "data": {
      "text/plain": [
       "33"
      ]
     },
     "execution_count": 4811,
     "metadata": {},
     "output_type": "execute_result"
    }
   ],
   "source": [
    "sizeof(privateKeyCompressed)"
   ]
  },
  {
   "cell_type": "markdown",
   "metadata": {},
   "source": [
    "La fonction get_publicKey_points permet d'obtenir les points x et y obtenu par le passage de la clé privé dans la courbe elliptique SECP256k1.\n",
    "\n",
    "Ces deux valeurs nous permettrons de définir la clé publique"
   ]
  },
  {
   "cell_type": "code",
   "execution_count": 4812,
   "metadata": {},
   "outputs": [
    {
     "data": {
      "text/plain": [
       "(mpz(14446837025792443932741176461993223577041741941234793559591269711067511692433),\n",
       " mpz(58010717092803112901553175593431859198588074653439036342698364984128300193129))"
      ]
     },
     "execution_count": 4812,
     "metadata": {},
     "output_type": "execute_result"
    }
   ],
   "source": [
    "from genKeys import get_publicKey_points\n",
    "(x,y) = get_publicKey_points(privateKeyCompressed)\n",
    "(x,y)"
   ]
  },
  {
   "cell_type": "code",
   "execution_count": 4813,
   "metadata": {},
   "outputs": [
    {
     "name": "stdout",
     "output_type": "stream",
     "text": [
      "1ff09eb78a5cf78d69051e7a9a1d200bf4a082958a80446645fd2a6d0b429c91\n",
      "8040e6fe76d160a102aa0618b28938cbbfc83f6a334fff8a91df905510651569\n"
     ]
    }
   ],
   "source": [
    "from genKeys import mpz_to_bytes\n",
    "print(mpz_to_bytes(x))\n",
    "print(mpz_to_bytes(y))"
   ]
  },
  {
   "cell_type": "code",
   "execution_count": 4814,
   "metadata": {},
   "outputs": [
    {
     "name": "stdout",
     "output_type": "stream",
     "text": [
      "Taille de la clé publique en valeur héxadécimale: 031ff09eb78a5cf78d69051e7a9a1d200bf4a082958a80446645fd2a6d0b429c91\n"
     ]
    }
   ],
   "source": [
    "from genKeys import get_publicKey\n",
    "publicKeyBytes = get_publicKey(x,y)\n",
    "publicKeyBytes\n",
    "print(\"Taille de la clé publique en valeur héxadécimale:\", publicKeyBytes)"
   ]
  },
  {
   "cell_type": "code",
   "execution_count": 4815,
   "metadata": {},
   "outputs": [
    {
     "data": {
      "text/plain": [
       "33"
      ]
     },
     "execution_count": 4815,
     "metadata": {},
     "output_type": "execute_result"
    }
   ],
   "source": [
    "from genKeys import sizeof\n",
    "sizeof(int(publicKeyBytes, 16))"
   ]
  },
  {
   "cell_type": "markdown",
   "metadata": {},
   "source": [
    "Si on devait avoir accès à notre clé privé elle serait conservé en base 58 (enlève les O,0,l,I pour éviter les erreurs de transcriptions)(commence par un 5,K ou L). "
   ]
  },
  {
   "cell_type": "markdown",
   "metadata": {},
   "source": [
    "Donc principalement utilisé pour la clé privé et l'adresse."
   ]
  },
  {
   "cell_type": "markdown",
   "metadata": {},
   "source": [
    "La compression est plus utilisé pour la clé publique afin de réduire la taille de la clé lors des transactions."
   ]
  },
  {
   "cell_type": "code",
   "execution_count": 4816,
   "metadata": {},
   "outputs": [
    {
     "name": "stdout",
     "output_type": "stream",
     "text": [
      "H595RiLtpj7iNgh436B1YXvifayvyQwMd7uoYF3f5aj9\n",
      "Taille de la clé privée en base 58 : 44\n",
      "108008149035590916480043517742926194702737936367129282726684337901072797887088\n"
     ]
    }
   ],
   "source": [
    "from genKeys import base58_from_int, int_from_base58\n",
    "privateKeyBase58 = base58_from_int(privateKey)\n",
    "print(privateKeyBase58)\n",
    "print(\"Taille de la clé privée en base 58 :\",len(privateKeyBase58))\n",
    "intKey = int_from_base58(privateKeyBase58)\n",
    "print(intKey)\n"
   ]
  },
  {
   "cell_type": "code",
   "execution_count": 4817,
   "metadata": {},
   "outputs": [
    {
     "name": "stdout",
     "output_type": "stream",
     "text": [
      "L'adresse bitcoin pour envoyer et recevoir est  7hf4tLqzCeuVwy9KTUdKNbFXaWRoS2Yce\n"
     ]
    }
   ],
   "source": [
    "from genKeys import pk_to_address\n",
    "address = pk_to_address(publicKeyBytes)\n",
    "print(\"L'adresse bitcoin pour envoyer et recevoir est \", address)"
   ]
  },
  {
   "cell_type": "code",
   "execution_count": 4818,
   "metadata": {},
   "outputs": [
    {
     "data": {
      "text/plain": [
       "['pwpghWdnnzivNyLgfEqHCyaTQTcmgWb4h65bdH3XFbn',\n",
       " '03553f788710158444a5be95f31abea3f389ca80dd3325a5dd4872e562e2722f92',\n",
       " '5qXqP3dqdjknhedXFBAdkMwXwiAuVvaYw']"
      ]
     },
     "execution_count": 4818,
     "metadata": {},
     "output_type": "execute_result"
    }
   ],
   "source": [
    "from genKeys import generate_keys_address\n",
    "generate_keys_address()"
   ]
  },
  {
   "cell_type": "code",
   "execution_count": 4819,
   "metadata": {},
   "outputs": [
    {
     "data": {
      "text/plain": [
       "(['CsvJNKRVdaHi5ScnyLvNybiLaN8q2EMnShHspRyT8Ys5',\n",
       "  '5tdAUbM2PWxtVcgwLs8Yj2Ln6CZfYLwnKN1dSxpDcH5f',\n",
       "  '7mTYgXtSrQr736mGYN1vYpfHoZcXoKsGKjZtUevXGRwX'],\n",
       " ['0262455d5adc0b38f696028c32094547b4a6fee4cbe6da16f6a12dbcd46b6fc166',\n",
       "  '02e63cc092c5353ceaffb92ace71ba64d35b90f656adc1fad5ade61214f42f789f',\n",
       "  '03651815d703f5e351dc6570296d252dbb00b225716628cd10c6b046e2c8e01c53'],\n",
       " ['LUz6VzMb87GMZmFdJcSJZbKwwhe5kGj79',\n",
       "  '5z1pXfdjaykjSGrxDL9dq7nkMh1LBjnDG',\n",
       "  'FumKbkKNo7MiixTzNA96eY7xrEeuEbPEk'])"
      ]
     },
     "execution_count": 4819,
     "metadata": {},
     "output_type": "execute_result"
    }
   ],
   "source": [
    "from genKeys import list_address\n",
    "list = list_address()\n",
    "list"
   ]
  },
  {
   "cell_type": "code",
   "execution_count": 4820,
   "metadata": {},
   "outputs": [
    {
     "data": {
      "text/plain": [
       "'CsvJNKRVdaHi5ScnyLvNybiLaN8q2EMnShHspRyT8Ys5'"
      ]
     },
     "execution_count": 4820,
     "metadata": {},
     "output_type": "execute_result"
    }
   ],
   "source": [
    "from genKeys import get_address\n",
    "address_test = get_address(list)\n",
    "address_test"
   ]
  },
  {
   "cell_type": "code",
   "execution_count": 4821,
   "metadata": {},
   "outputs": [
    {
     "name": "stdout",
     "output_type": "stream",
     "text": [
      "9dbf02fc44c83a26ce18765aa3380bd9a836f0decbeb20231c93ddbd7c8677e60dd7a8568af3a781ce63fdb71932af38052ebe79cddeb252acacdfcf7bb20745\n"
     ]
    }
   ],
   "source": [
    "from genKeys import generate_signature, pkscript_hash\n",
    "message_hash = pkscript_hash()\n",
    "signature = generate_signature(privateKey, message_hash)\n",
    "print(signature)"
   ]
  },
  {
   "cell_type": "code",
   "execution_count": 4822,
   "metadata": {},
   "outputs": [
    {
     "name": "stdout",
     "output_type": "stream",
     "text": [
      "Longueur de la clé publique : 66\n",
      "9dbf02fc44c83a26ce18765aa3380bd9a836f0decbeb20231c93ddbd7c8677e60dd7a8568af3a781ce63fdb71932af38052ebe79cddeb252acacdfcf7bb20745\n",
      "b'+\\xcd0=\\xa0!X\\xed\\xbe\\t\\xe4X\\x03vwb\\xc2G\\x0b\\xd7\\xbdl\\x07\\x87\\x077\\xb4y]\\x10Lw'\n",
      "031ff09eb78a5cf78d69051e7a9a1d200bf4a082958a80446645fd2a6d0b429c91\n"
     ]
    }
   ],
   "source": [
    "print(f\"Longueur de la clé publique : {len(publicKeyBytes)}\")\n",
    "print(signature)\n",
    "print(message_hash)\n",
    "print(publicKeyBytes)"
   ]
  },
  {
   "cell_type": "code",
   "execution_count": 4823,
   "metadata": {},
   "outputs": [
    {
     "data": {
      "text/plain": [
       "True"
      ]
     },
     "execution_count": 4823,
     "metadata": {},
     "output_type": "execute_result"
    }
   ],
   "source": [
    "from genKeys import verify_signature\n",
    "verify_signature(publicKeyBytes, signature, message_hash)"
   ]
  },
  {
   "cell_type": "code",
   "execution_count": 4824,
   "metadata": {},
   "outputs": [
    {
     "name": "stdout",
     "output_type": "stream",
     "text": [
      "['{\\n  \"pkscript\": \"001441b089e98dc4c29ac3c1950acfe7ba3a06b4cf01\",\\n  \"value\": 3,\\n  \"address\": \"CKSa3RpKRi3meckvjydLqkt1iu1C47g9x\",\\n  \"signature\": \"0f6c617286376bd044b8474a53b88ba6ae0dedb1395b2c80357dcf8f2026a445c6189a11c87a62b993a1f8f80b8d668c0b403eb54675963606f6e9c584d7e37d\",\\n  \"publicK\": \"039a197a7578f67c7a2d304a32a4acf418b46d235046fdb73176d0124e0c64d96e\"\\n}', '{\\n  \"pkscript\": \"001441b089e98dc4c29ac3c1950acfe7ba3a06b4cf01\",\\n  \"value\": 3,\\n  \"address\": \"8MtQdfPJgpR43mAbe19UJ8YAize3ZHkmG\",\\n  \"signature\": \"e82e058d960ed4fd4f6c3f02c95f5b1de2243d3e05edf6e1ae89dadfcf2c8a2a24bc7e131cb76394a2aa6bb9f969f435dfd3d3855f121fcbcdcc208004769564\",\\n  \"publicK\": \"03d86e2e2585c810e29db711810f1005f001a7d78b2bb2c629526bd828452ca51c\"\\n}', '{\\n  \"pkscript\": \"001441b089e98dc4c29ac3c1950acfe7ba3a06b4cf01\",\\n  \"value\": 3,\\n  \"address\": \"6g6UfCBFvNoNGzFZ3Pg7Rmks6AuPxu7Gs\",\\n  \"signature\": \"f23d7a6af0db56838a3cb4b228a4d2b37bf2fc380ba315d555ef96fac3a2e6f88b7c400dfba3be2d43227df59d296d3391cf6ccc74a3a3f7ce7511c3bd9e085f\",\\n  \"publicK\": \"033afd615801a8a386413bba0e0b377377167670ecb1094e9258dc61401b0ba1c0\"\\n}']\n",
      "['{\\n  \"pkscript\": \"001441b089e98dc4c29ac3c1950acfe7ba3a06b4cf01\",\\n  \"value\": 3,\\n  \"address\": \"4fwfWFFaqsnHCssKT7JRjqX7nKfG3KMHL\"\\n}', '{\\n  \"pkscript\": \"001441b089e98dc4c29ac3c1950acfe7ba3a06b4cf01\",\\n  \"value\": 3,\\n  \"address\": \"DmUeKzEKnAr75mWDnL8pDyq2zMj6rSgqG\"\\n}', '{\\n  \"pkscript\": \"001441b089e98dc4c29ac3c1950acfe7ba3a06b4cf01\",\\n  \"value\": 3,\\n  \"address\": \"38APtfnaySpvaXUvHXTV6wHWrookAzY36\"\\n}']\n"
     ]
    }
   ],
   "source": [
    "from genKeys import inputs, outputs\n",
    "input = inputs(3, 3)\n",
    "output = outputs(3,3)\n",
    "print(input)\n",
    "print(output)\n"
   ]
  },
  {
   "cell_type": "code",
   "execution_count": 4825,
   "metadata": {},
   "outputs": [
    {
     "data": {
      "text/plain": [
       "'{\\n  \"  INPUTS  \": [\\n    \"{\\\\n  \\\\\"pkscript\\\\\": \\\\\"001441b089e98dc4c29ac3c1950acfe7ba3a06b4cf01\\\\\",\\\\n  \\\\\"value\\\\\": 3,\\\\n  \\\\\"address\\\\\": \\\\\"KwzBdY8ZeBdo6M31aCxfvwPdwqjsVPb4i\\\\\",\\\\n  \\\\\"signature\\\\\": \\\\\"b2a2b370756b9edb0f3c3366100ef8052b5f0dfb3ed319b1554afdfd8abafa3a22a9505e96574f0feaabd853f1648fb8cdeff4995c36e5a0150d865f02f4269e\\\\\",\\\\n  \\\\\"publicK\\\\\": \\\\\"02195fdaac9ce3f0825097696e82e5c6fdc60ec93e6b15158960177aedc91afa53\\\\\"\\\\n}\"\\n  ],\\n  \"  OUTPUTS  \": [\\n    \"{\\\\n  \\\\\"pkscript\\\\\": \\\\\"001441b089e98dc4c29ac3c1950acfe7ba3a06b4cf01\\\\\",\\\\n  \\\\\"value\\\\\": 2.99748,\\\\n  \\\\\"address\\\\\": \\\\\"NqBobnvMvjFuNJMVRAQdEMPGsQH6NLEtG\\\\\"\\\\n}\"\\n  ],\\n  \"fee\": 0.00252\\n}'"
      ]
     },
     "execution_count": 4825,
     "metadata": {},
     "output_type": "execute_result"
    }
   ],
   "source": [
    "from genKeys import create_json_transaction\n",
    "json = create_json_transaction()\n",
    "json"
   ]
  },
  {
   "cell_type": "code",
   "execution_count": 4826,
   "metadata": {},
   "outputs": [
    {
     "data": {
      "text/plain": [
       "611"
      ]
     },
     "execution_count": 4826,
     "metadata": {},
     "output_type": "execute_result"
    }
   ],
   "source": [
    "from genKeys import measure_json_file, json_to_binary\n",
    "measure_json_file(json)"
   ]
  },
  {
   "cell_type": "code",
   "execution_count": 4827,
   "metadata": {},
   "outputs": [
    {
     "name": "stdout",
     "output_type": "stream",
     "text": [
      "611\n",
      "624\n",
      "625\n",
      "611\n",
      "611\n",
      "611\n",
      "611\n",
      "611\n",
      "626\n",
      "611\n"
     ]
    },
    {
     "data": {
      "text/plain": [
       "615.2"
      ]
     },
     "execution_count": 4827,
     "metadata": {},
     "output_type": "execute_result"
    }
   ],
   "source": [
    "from genKeys import measure_size\n",
    "measure_size()"
   ]
  }
 ],
 "metadata": {
  "kernelspec": {
   "display_name": "Python 3.9.15 ('base')",
   "language": "python",
   "name": "python3"
  },
  "language_info": {
   "codemirror_mode": {
    "name": "ipython",
    "version": 3
   },
   "file_extension": ".py",
   "mimetype": "text/x-python",
   "name": "python",
   "nbconvert_exporter": "python",
   "pygments_lexer": "ipython3",
   "version": "3.9.15"
  },
  "orig_nbformat": 4,
  "vscode": {
   "interpreter": {
    "hash": "50c2b50512d30af12c1da467092fe595a0d0f9fab3e38015d1f8affa9156c2ed"
   }
  }
 },
 "nbformat": 4,
 "nbformat_minor": 2
}
